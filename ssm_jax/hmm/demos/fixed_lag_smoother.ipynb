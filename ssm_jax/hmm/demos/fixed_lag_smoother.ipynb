{
  "nbformat": 4,
  "nbformat_minor": 0,
  "metadata": {
    "colab": {
      "name": "fixed_lag_smoother.ipynb",
      "provenance": []
    },
    "kernelspec": {
      "name": "python3",
      "display_name": "Python 3"
    },
    "language_info": {
      "name": "python"
    }
  },
  "cells": [
    {
      "cell_type": "markdown",
      "source": [
        "# Fixed Lag Smoother"
      ],
      "metadata": {
        "id": "YNVwtTv8P0bZ"
      }
    },
    {
      "cell_type": "markdown",
      "source": [
        "# 0. Imports"
      ],
      "metadata": {
        "id": "Fob7r0qaR1Nk"
      }
    },
    {
      "cell_type": "code",
      "source": [
        "!git clone https://github.com/probml/ssm-jax.git\n",
        "%cd ssm-jax\n",
        "!pip install -e ."
      ],
      "metadata": {
        "colab": {
          "base_uri": "https://localhost:8080/"
        },
        "id": "N4P2DsduVbW5",
        "outputId": "54e48c02-124c-40aa-d748-bc4a37a5e01f"
      },
      "execution_count": 10,
      "outputs": [
        {
          "output_type": "stream",
          "name": "stdout",
          "text": [
            "Cloning into 'ssm-jax'...\n",
            "remote: Enumerating objects: 590, done.\u001b[K\n",
            "remote: Counting objects: 100% (95/95), done.\u001b[K\n",
            "remote: Compressing objects: 100% (58/58), done.\u001b[K\n",
            "remote: Total 590 (delta 47), reused 41 (delta 37), pack-reused 495\u001b[K\n",
            "Receiving objects: 100% (590/590), 1.64 MiB | 20.20 MiB/s, done.\n",
            "Resolving deltas: 100% (333/333), done.\n",
            "/content/ssm-jax/ssm-jax\n",
            "Looking in indexes: https://pypi.org/simple, https://us-python.pkg.dev/colab-wheels/public/simple/\n",
            "Obtaining file:///content/ssm-jax/ssm-jax\n",
            "Requirement already satisfied: jax in /usr/local/lib/python3.7/dist-packages (from ssm-jax==0.1) (0.3.8)\n",
            "Requirement already satisfied: jaxlib in /usr/local/lib/python3.7/dist-packages (from ssm-jax==0.1) (0.3.7+cuda11.cudnn805)\n",
            "Requirement already satisfied: optax in /usr/local/lib/python3.7/dist-packages (from ssm-jax==0.1) (0.1.2)\n",
            "Requirement already satisfied: chex in /usr/local/lib/python3.7/dist-packages (from ssm-jax==0.1) (0.1.3)\n",
            "Requirement already satisfied: distrax in /usr/local/lib/python3.7/dist-packages (from ssm-jax==0.1) (0.1.2)\n",
            "Requirement already satisfied: tensorflow_probability in /usr/local/lib/python3.7/dist-packages (from ssm-jax==0.1) (0.16.0)\n",
            "Requirement already satisfied: absl-py>=0.9.0 in /usr/local/lib/python3.7/dist-packages (from chex->ssm-jax==0.1) (1.1.0)\n",
            "Requirement already satisfied: dm-tree>=0.1.5 in /usr/local/lib/python3.7/dist-packages (from chex->ssm-jax==0.1) (0.1.7)\n",
            "Requirement already satisfied: toolz>=0.9.0 in /usr/local/lib/python3.7/dist-packages (from chex->ssm-jax==0.1) (0.11.2)\n",
            "Requirement already satisfied: numpy>=1.18.0 in /usr/local/lib/python3.7/dist-packages (from chex->ssm-jax==0.1) (1.21.6)\n",
            "Requirement already satisfied: scipy>=1.2.1 in /usr/local/lib/python3.7/dist-packages (from jax->ssm-jax==0.1) (1.4.1)\n",
            "Requirement already satisfied: typing-extensions in /usr/local/lib/python3.7/dist-packages (from jax->ssm-jax==0.1) (4.2.0)\n",
            "Requirement already satisfied: opt-einsum in /usr/local/lib/python3.7/dist-packages (from jax->ssm-jax==0.1) (3.3.0)\n",
            "Requirement already satisfied: flatbuffers<3.0,>=1.12 in /usr/local/lib/python3.7/dist-packages (from jaxlib->ssm-jax==0.1) (2.0)\n",
            "Requirement already satisfied: decorator in /usr/local/lib/python3.7/dist-packages (from tensorflow_probability->ssm-jax==0.1) (4.4.2)\n",
            "Requirement already satisfied: six>=1.10.0 in /usr/local/lib/python3.7/dist-packages (from tensorflow_probability->ssm-jax==0.1) (1.15.0)\n",
            "Requirement already satisfied: gast>=0.3.2 in /usr/local/lib/python3.7/dist-packages (from tensorflow_probability->ssm-jax==0.1) (0.5.3)\n",
            "Requirement already satisfied: cloudpickle>=1.3 in /usr/local/lib/python3.7/dist-packages (from tensorflow_probability->ssm-jax==0.1) (1.3.0)\n",
            "Installing collected packages: ssm-jax\n",
            "  Attempting uninstall: ssm-jax\n",
            "    Found existing installation: ssm-jax 0.1\n",
            "    Can't uninstall 'ssm-jax'. No files were found to uninstall.\n",
            "  Running setup.py develop for ssm-jax\n",
            "Successfully installed ssm-jax-0.1\n"
          ]
        }
      ]
    },
    {
      "cell_type": "code",
      "source": [
        "import ssm_jax.hmm.inference as core\n",
        "import ssm_jax.hmm.inference_test as test\n",
        "\n",
        "import jax.numpy as jnp\n",
        "import jax.random as jr\n",
        "import jax.lax as lax\n",
        "from jax import vmap"
      ],
      "metadata": {
        "id": "sNgYCLHe7-fC"
      },
      "execution_count": 11,
      "outputs": []
    },
    {
      "cell_type": "markdown",
      "source": [
        "# 1. Fixed Lag Smoother - Two Implementations"
      ],
      "metadata": {
        "id": "jbmIOFafYk7b"
      }
    },
    {
      "cell_type": "code",
      "execution_count": 12,
      "metadata": {
        "id": "QDJ7YcaZGSTI"
      },
      "outputs": [],
      "source": [
        "# Naive (un-vectorized) version that smooths backward inside the window\n",
        "def hmm_fixed_lag_smoother_iterative(initial_distribution,\n",
        "                                     transition_matrix,\n",
        "                                     log_likelihoods,\n",
        "                                     window_size):\n",
        "    \n",
        "    num_timesteps, num_states = log_likelihoods.shape\n",
        "\n",
        "    def _step(carry, t):\n",
        "        # Unpack the inputs\n",
        "        log_normalizers, filtered_probs, predicted_probs = carry\n",
        "        t_offset = t + offset\n",
        "\n",
        "        # Get parameters for time t\n",
        "        A_fwd = core._get_params(transition_matrix, 2, t_offset-1)\n",
        "        A_bwd = core._get_params(transition_matrix, 2, t_offset)\n",
        "        ll = log_likelihoods[t_offset]\n",
        "        \n",
        "        # Shift window forward by 1\n",
        "        log_normalizers = log_normalizers[1:]\n",
        "        predicted_probs = predicted_probs[1:]\n",
        "        filtered_probs = filtered_probs[1:]\n",
        "        \n",
        "        # Perform forward operation\n",
        "        predicted_probs_next = core._predict(filtered_probs[-1], A_fwd)\n",
        "        filtered_probs_next, log_norm = core._condition_on(predicted_probs_next, ll)\n",
        "        log_normalizers = jnp.concatenate((log_normalizers,\n",
        "                                           jnp.array([log_norm])))\n",
        "        filtered_probs = jnp.concatenate((filtered_probs,\n",
        "                                          jnp.array([filtered_probs_next])))\n",
        "        predicted_probs = jnp.concatenate((predicted_probs,\n",
        "                                           jnp.array([predicted_probs_next])))\n",
        "\n",
        "        # Smooth backwards inside the window\n",
        "        window_lb = t_offset - window_size + 1\n",
        "        transition_backward = lax.dynamic_slice(transition_matrix,\n",
        "                                                (window_lb,0,0),\n",
        "                                                (window_size,num_states,num_states))\n",
        "        transition_backward = transition_matrix\n",
        "        lls_backward = lax.dynamic_slice(log_likelihoods, \n",
        "                                         (window_lb, 0), \n",
        "                                         (window_size, num_states))\n",
        "        _, betas = core.hmm_backward_filter(transition_backward, lls_backward)\n",
        "        betas = jnp.pad(betas, ((window_size-betas.shape[0],0), (0,0)))\n",
        "\n",
        "        # Compute posterior values\n",
        "        def compute_posterior(filtered_probs, beta):\n",
        "            smoothed_probs = filtered_probs * beta\n",
        "            return jnp.where(smoothed_probs.sum(), \n",
        "                             smoothed_probs/smoothed_probs.sum(), smoothed_probs)\n",
        "        smoothed_probs = vmap(compute_posterior, (0, 0))(filtered_probs, betas)\n",
        "\n",
        "        post = core.HMMPosterior(marginal_loglik = log_normalizers.sum(),\n",
        "                                 filtered_probs = filtered_probs,\n",
        "                                 predicted_probs = predicted_probs,\n",
        "                                 smoothed_probs = smoothed_probs)\n",
        "\n",
        "        return (log_normalizers, filtered_probs, predicted_probs), post\n",
        "    \n",
        "    # Filter on first observation\n",
        "    ll = log_likelihoods[0]\n",
        "    filtered_probs, log_norm = core._condition_on(initial_distribution, ll)\n",
        "    \n",
        "    # Reshape for lax.scan\n",
        "    filtered_probs = jnp.pad(jnp.expand_dims(filtered_probs, axis=0),\n",
        "                             ((window_size-1,0), (0,0)))\n",
        "    predicted_probs = jnp.pad(jnp.expand_dims(initial_distribution, axis=0),\n",
        "                              ((window_size-1,0), (0,0)))\n",
        "    log_normalizers = jnp.pad(jnp.array([log_norm]), (window_size-1,0))\n",
        "\n",
        "    # Pad transition and log likelihoods for backwards smoothing using lax.scan\n",
        "    if transition_matrix.ndim == 3:\n",
        "        transition_matrix = jnp.pad(transition_matrix, \n",
        "                                    ((window_size-2,0), (0,0), (0,0)), \n",
        "                                    constant_values=1)\n",
        "    else:\n",
        "        transition_matrix = jnp.repeat(jnp.expand_dims(transition_matrix, axis=0),\n",
        "                                       window_size-1+num_timesteps,\n",
        "                                       axis=0)\n",
        "    log_likelihoods = jnp.pad(log_likelihoods, ((window_size-2,0), (0,0)))\n",
        "    offset = window_size-2\n",
        "\n",
        "    carry = (log_normalizers, filtered_probs, predicted_probs)\n",
        "    _, posts = lax.scan(\n",
        "        _step, carry, jnp.arange(1, num_timesteps)\n",
        "    )\n",
        "\n",
        "    # Include initial values\n",
        "    marginal_loglik = jnp.concatenate((jnp.array([log_normalizers.sum()]), \n",
        "                                      posts.marginal_loglik))\n",
        "    predicted_probs = jnp.concatenate((jnp.expand_dims(predicted_probs, axis=0),\n",
        "                                       posts.predicted_probs))\n",
        "    smoothed_probs = jnp.concatenate((jnp.expand_dims(filtered_probs, axis=0),\n",
        "                                      posts.smoothed_probs))\n",
        "    filtered_probs = jnp.concatenate((jnp.expand_dims(filtered_probs, axis=0), \n",
        "                                      posts.filtered_probs))\n",
        "\n",
        "    posts = core.HMMPosterior(marginal_loglik = marginal_loglik,\n",
        "                              filtered_probs = filtered_probs,\n",
        "                              predicted_probs = predicted_probs,\n",
        "                              smoothed_probs = smoothed_probs)\n",
        "\n",
        "    return posts"
      ]
    },
    {
      "cell_type": "code",
      "source": [
        "# Vectorized version\n",
        "def hmm_fixed_lag_smoother_vectorized(initial_distribution,\n",
        "                                      transition_matrix,\n",
        "                                      log_likelihoods,\n",
        "                                      window_size):\n",
        "    \n",
        "    num_timesteps, num_states = log_likelihoods.shape\n",
        "\n",
        "    def _step(carry, t):\n",
        "        # Unpack the inputs\n",
        "        log_normalizers, filtered_probs, predicted_probs, bmatrices = carry\n",
        "\n",
        "        # Get parameters for time t\n",
        "        A_fwd = core._get_params(transition_matrix, 2, t-1)\n",
        "        A_bwd = core._get_params(transition_matrix, 2, t)\n",
        "        ll = log_likelihoods[t]\n",
        "        \n",
        "        # Shift window forward by 1\n",
        "        log_normalizers = log_normalizers[1:]\n",
        "        predicted_probs = predicted_probs[1:]\n",
        "        filtered_probs = filtered_probs[1:]\n",
        "        bmatrices = bmatrices[1:]\n",
        "        \n",
        "        # Perform forward operation\n",
        "        predicted_probs_next = core._predict(filtered_probs[-1], A_fwd)\n",
        "        filtered_probs_next, log_norm = core._condition_on(predicted_probs_next, ll)\n",
        "        log_normalizers = jnp.concatenate((log_normalizers,\n",
        "                                           jnp.array([log_norm])))\n",
        "        filtered_probs = jnp.concatenate((filtered_probs,\n",
        "                                          jnp.array([filtered_probs_next])))\n",
        "        predicted_probs = jnp.concatenate((predicted_probs,\n",
        "                                           jnp.array([predicted_probs_next])))\n",
        "\n",
        "        # Smooth inside the window in parallel\n",
        "        def update_bmatrix(bmatrix):\n",
        "            return (bmatrix @ A_bwd) * jnp.exp(ll)\n",
        "        bmatrices = vmap(update_bmatrix)(bmatrices)\n",
        "        bmatrices = jnp.concatenate((bmatrices, jnp.eye(num_states)[None, :]))\n",
        "\n",
        "        # Compute beta values by row-summing bmatrices\n",
        "        def compute_beta(bmatrix):\n",
        "            beta = bmatrix.sum(axis=1)\n",
        "            return jnp.where(beta.sum(), beta/beta.sum(), beta)\n",
        "        betas = vmap(compute_beta)(bmatrices)\n",
        "\n",
        "        # Compute posterior values\n",
        "        def compute_posterior(filtered_probs, beta):\n",
        "            smoothed_probs = filtered_probs * beta\n",
        "            return jnp.where(smoothed_probs.sum(), \n",
        "                             smoothed_probs/smoothed_probs.sum(), smoothed_probs)\n",
        "        smoothed_probs = vmap(compute_posterior, (0, 0))(filtered_probs, betas)\n",
        "\n",
        "        post = core.HMMPosterior(marginal_loglik = log_normalizers.sum(),\n",
        "                                 filtered_probs = filtered_probs,\n",
        "                                 predicted_probs = predicted_probs,\n",
        "                                 smoothed_probs = smoothed_probs)\n",
        "\n",
        "        return (log_normalizers, filtered_probs, predicted_probs, bmatrices), post\n",
        "    \n",
        "    # Filter on first observation\n",
        "    ll = log_likelihoods[0]\n",
        "    filtered_probs, log_norm = core._condition_on(initial_distribution, ll)\n",
        "    \n",
        "    # Reshape for lax.scan\n",
        "    filtered_probs = jnp.pad(jnp.expand_dims(filtered_probs, axis=0),\n",
        "                             ((window_size-1,0), (0,0)))\n",
        "    predicted_probs = jnp.pad(jnp.expand_dims(initial_distribution, axis=0),\n",
        "                              ((window_size-1,0), (0,0)))\n",
        "    log_normalizers = jnp.pad(jnp.array([log_norm]), (window_size-1,0))\n",
        "    bmatrices = jnp.pad(jnp.expand_dims(jnp.eye(num_states), axis=0),\n",
        "                        ((window_size-1,0), (0,0), (0,0)))\n",
        "\n",
        "    carry = (log_normalizers, filtered_probs, predicted_probs, bmatrices)\n",
        "    _, posts = lax.scan(\n",
        "        _step, carry, jnp.arange(1, num_timesteps)\n",
        "    )\n",
        "\n",
        "    # Include initial values\n",
        "    marginal_loglik = jnp.concatenate((jnp.array([log_normalizers.sum()]), \n",
        "                                      posts.marginal_loglik))\n",
        "    predicted_probs = jnp.concatenate((jnp.expand_dims(predicted_probs, axis=0),\n",
        "                                       posts.predicted_probs))\n",
        "    smoothed_probs = jnp.concatenate((jnp.expand_dims(filtered_probs, axis=0),\n",
        "                                      posts.smoothed_probs))\n",
        "    filtered_probs = jnp.concatenate((jnp.expand_dims(filtered_probs, axis=0), \n",
        "                                      posts.filtered_probs))\n",
        "\n",
        "    posts = core.HMMPosterior(marginal_loglik = marginal_loglik,\n",
        "                              filtered_probs = filtered_probs,\n",
        "                              predicted_probs = predicted_probs,\n",
        "                              smoothed_probs = smoothed_probs)\n",
        "\n",
        "    return posts"
      ],
      "metadata": {
        "id": "6YFXqHP00UmQ"
      },
      "execution_count": 13,
      "outputs": []
    },
    {
      "cell_type": "markdown",
      "source": [
        "# 2. Correctness of Implementation"
      ],
      "metadata": {
        "id": "tEg7cAk0aNAH"
      }
    },
    {
      "cell_type": "markdown",
      "source": [
        "We test the two versions by comparing their full-lag smoothed posteriors against those of the naive ```core.hmm_smoother```.\n",
        "\n",
        "\n"
      ],
      "metadata": {
        "id": "WXfW503oaXXW"
      }
    },
    {
      "cell_type": "code",
      "source": [
        "def test_hmm_fixed_lag_smoother(key=0, num_timesteps=5, num_states=2):\n",
        "    if isinstance(key, int):\n",
        "        key = jr.PRNGKey(key)\n",
        "    \n",
        "    args = test.random_hmm_args(key, num_timesteps, num_states)\n",
        "\n",
        "    # Run the HMM smoother\n",
        "    posterior = core.hmm_smoother(*args)\n",
        "\n",
        "    # Run the HMM fixed-lag smoothers (vectorized, iterative) with full window size\n",
        "    posterior_fl_vec = hmm_fixed_lag_smoother_vectorized(*args, window_size=num_timesteps)\n",
        "    posterior_fl_it = hmm_fixed_lag_smoother_iterative(*args, window_size=num_timesteps)\n",
        "\n",
        "    def compare_posteriors(post1, post2):\n",
        "        assert jnp.allclose(post1.marginal_loglik, post2.marginal_loglik[-1])\n",
        "        assert jnp.allclose(post1.filtered_probs, post2.filtered_probs[-1])\n",
        "        assert jnp.allclose(post1.predicted_probs, post2.predicted_probs[-1])\n",
        "        assert jnp.allclose(post1.smoothed_probs, post2.smoothed_probs[-1])\n",
        "\n",
        "    # Compare posterior values of fixed-lag smoothers to those of smoother\n",
        "    compare_posteriors(posterior, posterior_fl_vec)\n",
        "    compare_posteriors(posterior, posterior_fl_it)\n",
        "\n",
        "# Verify correctness\n",
        "test_hmm_fixed_lag_smoother()"
      ],
      "metadata": {
        "id": "WKIYdNxyDysx"
      },
      "execution_count": 14,
      "outputs": []
    },
    {
      "cell_type": "markdown",
      "source": [
        "# 3. Timed Experiments"
      ],
      "metadata": {
        "id": "S2ZVMRwEkQML"
      }
    },
    {
      "cell_type": "code",
      "source": [
        "import time\n",
        "import numpy as np\n",
        "import matplotlib.pyplot as plt\n",
        "\n",
        "def compare_runtime(key=0, num_timesteps=10000, num_states=3, window_ub=9000, window_step=500):\n",
        "    if isinstance(key, int):\n",
        "        key = jr.PRNGKey(key)\n",
        "    args = test.random_hmm_args(key, num_timesteps, num_states)\n",
        "    window_grid = np.insert(np.arange(window_step, window_ub+1, window_step), 0, 2)\n",
        "    \n",
        "    it_times, vec_times = [], []\n",
        "    for window_size in window_grid:\n",
        "        print(f'Window of size: {window_size}')\n",
        "        start = time.time()\n",
        "        _ = hmm_fixed_lag_smoother_iterative(*args, window_size)\n",
        "        it_time = time.time()-start\n",
        "        it_times.append(it_time)\n",
        "        print(f'Iterative version took {it_time} seconds.')\n",
        "        start = time.time()\n",
        "        _ = hmm_fixed_lag_smoother_vectorized(*args, window_size)\n",
        "        vec_time = time.time()-start\n",
        "        vec_times.append(vec_time)\n",
        "        print(f'Vectorized version took {vec_time} seconds.')\n",
        "\n",
        "    # Plot the result\n",
        "    plt.figure()\n",
        "    plt.plot(window_grid, it_times, label='iterative')\n",
        "    plt.plot(window_grid, vec_times, label='vectorized')\n",
        "    plt.xlabel('window length')\n",
        "    plt.ylabel('best time in s')\n",
        "    plt.legend();\n",
        "    plt.show()\n",
        "\n",
        "compare_runtime()"
      ],
      "metadata": {
        "colab": {
          "base_uri": "https://localhost:8080/",
          "height": 1000
        },
        "id": "RGcVmIuLFRy4",
        "outputId": "afc4f5e3-100b-4fae-8a81-fd1eff6288d2"
      },
      "execution_count": 15,
      "outputs": [
        {
          "output_type": "stream",
          "name": "stdout",
          "text": [
            "Window of size: 2\n",
            "Iterative version took 0.3614373207092285 seconds.\n",
            "Vectorized version took 0.2810072898864746 seconds.\n",
            "Window of size: 500\n",
            "Iterative version took 0.8622324466705322 seconds.\n",
            "Vectorized version took 0.6720662117004395 seconds.\n",
            "Window of size: 1000\n",
            "Iterative version took 1.181218147277832 seconds.\n",
            "Vectorized version took 1.0287139415740967 seconds.\n",
            "Window of size: 1500\n",
            "Iterative version took 1.529416799545288 seconds.\n",
            "Vectorized version took 1.4300556182861328 seconds.\n",
            "Window of size: 2000\n",
            "Iterative version took 2.7996904850006104 seconds.\n",
            "Vectorized version took 1.997316837310791 seconds.\n",
            "Window of size: 2500\n",
            "Iterative version took 2.498990535736084 seconds.\n",
            "Vectorized version took 2.1012110710144043 seconds.\n",
            "Window of size: 3000\n",
            "Iterative version took 2.6218788623809814 seconds.\n",
            "Vectorized version took 2.3956081867218018 seconds.\n",
            "Window of size: 3500\n",
            "Iterative version took 4.48356032371521 seconds.\n",
            "Vectorized version took 2.782362461090088 seconds.\n",
            "Window of size: 4000\n",
            "Iterative version took 3.3518478870391846 seconds.\n",
            "Vectorized version took 3.09979510307312 seconds.\n",
            "Window of size: 4500\n",
            "Iterative version took 3.846179723739624 seconds.\n",
            "Vectorized version took 4.448943376541138 seconds.\n",
            "Window of size: 5000\n",
            "Iterative version took 4.076323509216309 seconds.\n",
            "Vectorized version took 3.8642940521240234 seconds.\n",
            "Window of size: 5500\n",
            "Iterative version took 4.724858522415161 seconds.\n",
            "Vectorized version took 4.481334447860718 seconds.\n",
            "Window of size: 6000\n",
            "Iterative version took 5.072105407714844 seconds.\n",
            "Vectorized version took 4.542433023452759 seconds.\n",
            "Window of size: 6500\n",
            "Iterative version took 5.471795320510864 seconds.\n",
            "Vectorized version took 5.1107494831085205 seconds.\n",
            "Window of size: 7000\n",
            "Iterative version took 5.938655138015747 seconds.\n",
            "Vectorized version took 5.372331619262695 seconds.\n",
            "Window of size: 7500\n",
            "Iterative version took 6.486835479736328 seconds.\n",
            "Vectorized version took 5.87862491607666 seconds.\n",
            "Window of size: 8000\n",
            "Iterative version took 7.955630540847778 seconds.\n",
            "Vectorized version took 5.998695373535156 seconds.\n",
            "Window of size: 8500\n",
            "Iterative version took 8.570979595184326 seconds.\n",
            "Vectorized version took 6.829608917236328 seconds.\n",
            "Window of size: 9000\n",
            "Iterative version took 7.781638145446777 seconds.\n",
            "Vectorized version took 6.99358606338501 seconds.\n"
          ]
        },
        {
          "output_type": "display_data",
          "data": {
            "text/plain": [
              "<Figure size 432x288 with 1 Axes>"
            ],
            "image/png": "[encoded data removed]"
          },
          "metadata": {
            "needs_background": "light"
          }
        }
      ]
    }
  ]
}